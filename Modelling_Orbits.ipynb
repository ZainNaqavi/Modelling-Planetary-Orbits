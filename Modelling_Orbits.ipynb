{
 "cells": [
  {
   "cell_type": "markdown",
   "metadata": {},
   "source": [
    "# Modelling Planetary orbits\n",
    "#### Zain Naqavi\n",
    "\n",
    "This code will use Vpython to model planetary orbits based on Newton's law of universal gravitation.\n",
    "$$F = \\frac{G m_1 m_2}{r^2}$$\n",
    "\n",
    "* Initially, the module functions required to create a Vpython animation are imported.\n",
    "* The first section will model the orbit of a planet around a star.\n",
    "* The second section will extend the first model by adding an arrow to represent the force on the first planet as well as a new planet and a moon for the first planet."
   ]
  },
  {
   "cell_type": "code",
   "execution_count": 1,
   "metadata": {},
   "outputs": [
    {
     "data": {
      "text/html": [
       "<div id=\"glowscript\" class=\"glowscript\"></div>"
      ],
      "text/plain": [
       "<IPython.core.display.HTML object>"
      ]
     },
     "metadata": {},
     "output_type": "display_data"
    },
    {
     "data": {
      "application/javascript": [
       "if (typeof Jupyter !== \"undefined\") { window.__context = { glowscript_container: $(\"#glowscript\").removeAttr(\"id\")};}else{ element.textContent = ' ';}"
      ],
      "text/plain": [
       "<IPython.core.display.Javascript object>"
      ]
     },
     "metadata": {},
     "output_type": "display_data"
    }
   ],
   "source": [
    "from vpython import sphere, vector, color, rate, mag, canvas, label, arrow"
   ]
  },
  {
   "cell_type": "markdown",
   "metadata": {},
   "source": [
    "To model the orbit of a planet around a star, Newton's law of universal gravitation is used.\n",
    "Given the starting point of the initial position and velocity of the planet, and a fixed timestep $\\delta t$, we can calculate how $\\mathbf{r}$ and $\\mathbf{v}$ change:\n",
    "\n",
    "$$ \\mathbf{v}(t + \\delta t)  = \\mathbf{v}(t) + \\delta \\mathbf{v} $$\n",
    "\n",
    "$$  \\qquad \\qquad = \\mathbf{v}(t) - \\frac{GM \\mathbf{r}}{|\\mathbf{r|^3}} \\delta t $$\n",
    "\n",
    "$$\\mathbf{r}(t + \\delta t)  = \\mathbf{r}(t) + \\delta \\mathbf{r} $$\n",
    "\n",
    "$$ \\qquad  \\qquad = \\mathbf{r}(t) + \\mathbf{v} \\delta t $$\n",
    "\n",
    "The displacement of the star is treated as negligible compared to the planet so the star reamins at the origin.\n",
    "\n",
    "In the code, the model for the plantet's motion is less accurate as the value of $\\delta t$ increases since it is the increment of time over which the new position of the planet is calculated. It would be infinitely accurate if $\\delta t$ were an infinitesimally small value. The value of $\\delta t$ as 0.0001 is used as a good approximation for modelling the orbits."
   ]
  },
  {
   "cell_type": "code",
   "execution_count": 2,
   "metadata": {},
   "outputs": [
    {
     "data": {
      "text/html": [
       "<div id=\"glowscript\" class=\"glowscript\"></div>"
      ],
      "text/plain": [
       "<IPython.core.display.HTML object>"
      ]
     },
     "metadata": {},
     "output_type": "display_data"
    },
    {
     "data": {
      "application/javascript": [
       "if (typeof Jupyter !== \"undefined\") { window.__context = { glowscript_container: $(\"#glowscript\").removeAttr(\"id\")};}else{ element.textContent = ' ';}"
      ],
      "text/plain": [
       "<IPython.core.display.Javascript object>"
      ]
     },
     "metadata": {},
     "output_type": "display_data"
    },
    {
     "data": {
      "application/javascript": [
       "if (typeof Jupyter !== \"undefined\") {require.undef(\"nbextensions/vpython_libraries/glow.min\");}else{element.textContent = ' ';}"
      ],
      "text/plain": [
       "<IPython.core.display.Javascript object>"
      ]
     },
     "metadata": {},
     "output_type": "display_data"
    },
    {
     "data": {
      "application/javascript": [
       "if (typeof Jupyter !== \"undefined\") {require.undef(\"nbextensions/vpython_libraries/glowcomm\");}else{element.textContent = ' ';}"
      ],
      "text/plain": [
       "<IPython.core.display.Javascript object>"
      ]
     },
     "metadata": {},
     "output_type": "display_data"
    },
    {
     "data": {
      "application/javascript": [
       "if (typeof Jupyter !== \"undefined\") {require.undef(\"nbextensions/vpython_libraries/jquery-ui.custom.min\");}else{element.textContent = ' ';}"
      ],
      "text/plain": [
       "<IPython.core.display.Javascript object>"
      ]
     },
     "metadata": {},
     "output_type": "display_data"
    },
    {
     "data": {
      "application/javascript": [
       "if (typeof Jupyter !== \"undefined\") {require([\"nbextensions/vpython_libraries/glow.min\"], function(){console.log(\"GLOW LOADED\");});}else{element.textContent = ' ';}"
      ],
      "text/plain": [
       "<IPython.core.display.Javascript object>"
      ]
     },
     "metadata": {},
     "output_type": "display_data"
    },
    {
     "data": {
      "application/javascript": [
       "if (typeof Jupyter !== \"undefined\") {require([\"nbextensions/vpython_libraries/glowcomm\"], function(){console.log(\"GLOWCOMM LOADED\");});}else{element.textContent = ' ';}"
      ],
      "text/plain": [
       "<IPython.core.display.Javascript object>"
      ]
     },
     "metadata": {},
     "output_type": "display_data"
    },
    {
     "data": {
      "application/javascript": [
       "if (typeof Jupyter !== \"undefined\") {require([\"nbextensions/vpython_libraries/jquery-ui.custom.min\"], function(){console.log(\"JQUERY LOADED\");});}else{element.textContent = ' ';}"
      ],
      "text/plain": [
       "<IPython.core.display.Javascript object>"
      ]
     },
     "metadata": {},
     "output_type": "display_data"
    },
    {
     "name": "stdout",
     "output_type": "stream",
     "text": [
      "end of program\n"
     ]
    }
   ],
   "source": [
    "canvas(width = 640, height = 480)\n",
    "\n",
    "dt = 0.0001     # timestep (smaller value for stable orbit)\n",
    "step = 1        # loop counter\n",
    "maxstep = 2000  # maximum number of steps\n",
    "\n",
    "#  Define the star, planets and constants\n",
    "M = 1000                     # mass of star (in units where G = 1)\n",
    "mass = 1                     # mass of planet (\")\n",
    "posn = vector(0, 1, 0.5)     # initial position vector of planet\n",
    "vel = vector(-23, -5, -10)   # initial velocity of planet\n",
    "\n",
    "# Initialise objects\n",
    "Planet = sphere(pos = posn, radius = 0.05 * mass, color = color.blue, make_trail = True)\n",
    "Planet.trail_color = color.cyan\n",
    "Star = sphere(pos = vector(0,0,0), radius = 0.1, color = color.yellow)\n",
    "\n",
    "# Loop calculating planet's position for 2000 timesteps\n",
    "while step <= maxstep:\n",
    "    rate(100)  # restricts animation to 100 updates per second\n",
    "    \n",
    "    # equations of universal gravitation\n",
    "    vel = vel - (M * posn / (mag(posn))**3) * dt\n",
    "    posn = posn + vel * dt\n",
    "    Planet.pos = posn\n",
    "    \n",
    "    step = step + 1\n",
    "\n",
    "print(\"end of program\")"
   ]
  },
  {
   "cell_type": "markdown",
   "metadata": {},
   "source": [
    "### Adding a moon and planet\n",
    "The addition of a planet to the system will cause the motion of the planets to be affected by eachother as well as the star. The new equation to calculate velocity of planet 2, $\\mathbf{v_2}$, is given by:\n",
    "$$ \\mathbf{v_2}(t + \\delta t)  = \\mathbf{v_2}(t) + \\delta \\mathbf{v_2} $$\n",
    "\n",
    "$$  \\qquad \\qquad = \\mathbf{v_2}(t) - \\left(\\frac{GM \\mathbf{r_2}}{|\\mathbf{r_2|^3}} + \\frac{Gm_1 \\mathbf{r_{12}}}{|\\mathbf{r_{12}|^3}}\\right)\\delta t $$\n",
    "Planet 1 is treated in the same way.\n",
    "$$$$\n",
    "The moon is treated as having a negligible effect on the other masses and its own motion is modelled to be affected by only the first planet and the star since the second planet is considered too small a mass for its distance apart from the moon to alter its motion. The velocity of the moon is therefore given by:\n",
    "$$ \\mathbf{v_{moon}}(t + \\delta t)  = \\mathbf{v_{moon}}(t) + \\delta \\mathbf{v_{moon}} $$\n",
    "\n",
    "$$  \\qquad \\qquad = \\mathbf{v_{moon}}(t) - \\left(\\frac{GM \\mathbf{r_{moon}}}{|\\mathbf{r_{moon}|^3}} + \\frac{Gm_1 \\mathbf{r_{1moon}}}{|\\mathbf{r_{1moon}|^3}}\\right)\\delta t $$"
   ]
  },
  {
   "cell_type": "code",
   "execution_count": 3,
   "metadata": {},
   "outputs": [
    {
     "data": {
      "text/html": [
       "<div id=\"glowscript\" class=\"glowscript\"></div>"
      ],
      "text/plain": [
       "<IPython.core.display.HTML object>"
      ]
     },
     "metadata": {},
     "output_type": "display_data"
    },
    {
     "data": {
      "application/javascript": [
       "if (typeof Jupyter !== \"undefined\") { window.__context = { glowscript_container: $(\"#glowscript\").removeAttr(\"id\")};}else{ element.textContent = ' ';}"
      ],
      "text/plain": [
       "<IPython.core.display.Javascript object>"
      ]
     },
     "metadata": {},
     "output_type": "display_data"
    },
    {
     "name": "stdout",
     "output_type": "stream",
     "text": [
      "end of program\n"
     ]
    }
   ],
   "source": [
    "canvas(width = 640, height = 480)\n",
    "\n",
    "dt = 0.0001      # timestep (smaller value for stable orbit)\n",
    "step = 1         # loop counter\n",
    "maxstep = 5000   # maximum number of steps\n",
    "\n",
    "#  Define the star, planets, moon and constants\n",
    "\n",
    "M = 1000                  # mass of star (in units where G = 1)\n",
    "mass1 = 1                 # mass of planet 1 (\")\n",
    "mass2 = 1.5               # mass of planet 2 (\")\n",
    "massm = 0.01              # mass of moon (\")\n",
    "\n",
    "posn1 = vector(0,1,0)     # initial position vector of Planet 1\n",
    "posn2 = vector(0,2,0)     # initial position vector of Planet 2\n",
    "posnm = vector (0,0.9,0)  # initial position vector of Moon - inside planet orbit radius to ensure it orbits planet\n",
    "\n",
    "vel1 = vector(-25, 0, 0)  # initial velocity of Planet 1\n",
    "vel2 = vector(-20, 0, 5)  # initial velocity of Planet 2\n",
    "velm = vector(-30, 0, 0)  # initial velocity of Moon\n",
    "\n",
    "# Initialise objects\n",
    "Star = sphere(pos = vector(0,0,0), radius = 0.1, color = color.yellow)\n",
    "Planet1 = sphere(pos = posn1, radius = 0.05 * mass1, color = color.blue, make_trail = True)\n",
    "Planet1.trail_color = color.cyan\n",
    "Planet2 = sphere(pos = posn2, radius = 0.05 * mass2, color = color.red, make_trail = True)\n",
    "Planet2.trail_color = color.magenta\n",
    "Moon = sphere(pos = posnm, radius = 0.025, color = color.white)\n",
    "\n",
    "# vector to represent force on planet 1 due to star\n",
    "force = arrow(pos = Planet1.pos, axis = Star.pos - Planet1.pos, color = color.green)\n",
    "\n",
    "# Loop calculating planet's position using Newton's laws of gravitation for 10000 timesteps\n",
    "while step <= maxstep:\n",
    "    rate(100)  # restricts animation to 100 updates per second\n",
    "    \n",
    "    # update planet 1\n",
    "    vel1 = vel1 - ((M*posn1/(mag(posn1))**3) + (mass2*(posn1-posn2)/(mag(posn1-posn2))**3))*dt\n",
    "    posn1 = posn1 + vel1 * dt\n",
    "    Planet1.pos = posn1\n",
    "    \n",
    "    # update force vector\n",
    "    force.pos = Planet1.pos\n",
    "    force.axis = Star.pos - Planet1.pos\n",
    "    force.length = 0.0001 * M * mass1 / mag(Star.pos - Planet1.pos)**2\n",
    "    \n",
    "    # update planet 2\n",
    "    vel2 = vel2 - ((M*posn2/(mag(posn2))**3) + (mass1*(posn2-posn1)/(mag(posn2-posn1))**3))*dt\n",
    "    posn2 = posn2 + vel2 * dt\n",
    "    Planet2.pos = posn2\n",
    "    \n",
    "    # update moon\n",
    "    velm = velm - ((M*posnm/(mag(posnm))**3) + (mass1*(posnm-posn1)/(mag(posnm-posn1))**3))*dt\n",
    "    posnm = posnm + velm * dt\n",
    "    Moon.pos = posnm\n",
    "    \n",
    "    step = step + 1\n",
    "\n",
    "print(\"end of program\")"
   ]
  }
 ],
 "metadata": {
  "kernelspec": {
   "display_name": "Python 3",
   "language": "python",
   "name": "python3"
  },
  "language_info": {
   "codemirror_mode": {
    "name": "ipython",
    "version": 3
   },
   "file_extension": ".py",
   "mimetype": "text/x-python",
   "name": "python",
   "nbconvert_exporter": "python",
   "pygments_lexer": "ipython3",
   "version": "3.7.4"
  }
 },
 "nbformat": 4,
 "nbformat_minor": 2
}
